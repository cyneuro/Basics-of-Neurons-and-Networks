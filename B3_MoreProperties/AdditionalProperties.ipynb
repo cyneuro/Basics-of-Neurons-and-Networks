{
  "cells": [
    {
      "cell_type": "markdown",
      "metadata": {
        "colab_type": "text",
        "id": "view-in-github"
      },
      "source": [
        "[![Open in Colab](https://colab.research.google.com/assets/colab-badge.svg)](https://colab.research.google.com/github/cyneuro/Basics-of-Neurons-and-Networks/blob/main/B3_MoreProperties/AdditionalProperties.ipynb)"
      ]
    },
    {
      "cell_type": "markdown",
      "metadata": {
        "id": "iqs6ehYm8vKv"
      },
      "source": [
        "## More properties - Input Resistance, FI Curve, AP Propagation\n",
        "##### Developed in the Neural Engineering Laboratory at the University of Missouri(Mizzou) by David Fague, Gregory Glickert and Khuram Choudhry\n",
        "This lab will go over many new related topics such as input resistance, the FI curve, AP(action potential) propagation through an axon, and myelin sheathing. Questions will be spread out throughout the notebook."
      ]
    },
    {
      "cell_type": "markdown",
      "metadata": {
        "id": "NWcsk0BC9M_w"
      },
      "source": [
        "Install neuron for simulations."
      ]
    },
    {
      "cell_type": "code",
      "execution_count": null,
      "metadata": {
        "id": "P0SW55iMsumX"
      },
      "outputs": [],
      "source": [
        "import os\n",
        "from os.path import normpath, sep, join\n",
        "\n",
        "RunningInCOLAB = 'google.colab' in str(get_ipython())  # checks to see if we are in google colab\n",
        "if RunningInCOLAB:                                     # installs packages if in colab\n",
        "    %pip install ipywidgets==7.7.1 &> /dev/null\n",
        "    %pip install neuron==8.2.4 &> /dev/null\n",
        "    \n",
        "    root = 'Basics-of-Neurons-and-Networks'\n",
        "    folder = 'B3_MoreProperties'\n",
        "    pathlist = normpath(os.getcwd()).split(sep)\n",
        "    if pathlist[-1] != folder:\n",
        "        rootidx = pathlist.index(root) if root in pathlist else -1\n",
        "        if rootidx>0:\n",
        "            os.chdir(join(sep,*pathlist[:rootidx]))\n",
        "        !git clone https://github.com/cyneuro/Basics-of-Neurons-and-Networks.git &> /dev/null\n",
        "        os.chdir(join(root,folder))"
      ]
    },
    {
      "cell_type": "markdown",
      "metadata": {
        "id": "UYM5lRTX9YWi"
      },
      "source": [
        "Compiling modfiles for cell simulation. Only needs to be done once."
      ]
    },
    {
      "cell_type": "code",
      "execution_count": null,
      "metadata": {
        "id": "AmWWoUT2uHvX"
      },
      "outputs": [],
      "source": [
        "import importlib\n",
        "import constants\n",
        "import numpy as np\n",
        "from neuron import h\n",
        "from complex_cell import build_L5_cell_ziao"
      ]
    },
    {
      "cell_type": "code",
      "execution_count": null,
      "metadata": {
        "colab": {
          "base_uri": "https://localhost:8080/"
        },
        "id": "1_upQxRwySGS",
        "outputId": "0f223b0e-2365-4c95-8789-56695cacc91e"
      },
      "outputs": [],
      "source": [
        "# Running this cell multiple times may give an error. If that happens then delete the file that already exists;\n",
        "# If you are in google colab you can use Runtime -> disconnect and delete runtime -> run all\n",
        "# Compile and load modfiles\n",
        "ret_code = os.system(f\"nrnivmodl mod\")\n",
        "if ret_code != 0:\n",
        "    print(f\"Failed to execute nrnivmodl. Return code: {ret_code}\")\n",
        "\n",
        "# h.load_file('stdrun.hoc')\n",
        "h.nrn_load_dll('./x86_64/.libs/libnrnmech.so')"
      ]
    },
    {
      "cell_type": "markdown",
      "metadata": {
        "id": "KrTuvqmU9z6O"
      },
      "source": [
        "The cell created has 4 compartments, including a soma, an axon, and two dendrites. We will not be using the dendrites within this simulation, but it is good to note that they are here."
      ]
    },
    {
      "cell_type": "code",
      "execution_count": null,
      "metadata": {
        "colab": {
          "base_uri": "https://localhost:8080/"
        },
        "id": "y9suzgjvuv7y",
        "outputId": "a9eaf102-1d6c-4eff-84a9-85a4a3359103"
      },
      "outputs": [],
      "source": [
        "cell = build_L5_cell_ziao(cell_folder=\"./\") # build 4 compartment cell"
      ]
    },
    {
      "cell_type": "markdown",
      "metadata": {
        "id": "gUco02V898Dl"
      },
      "source": [
        "Geometry of the cell:"
      ]
    },
    {
      "cell_type": "code",
      "execution_count": null,
      "metadata": {
        "colab": {
          "base_uri": "https://localhost:8080/"
        },
        "id": "oT7tDZqazV82",
        "outputId": "f675f1d9-205f-406e-90cc-9184c0066e8b"
      },
      "outputs": [],
      "source": [
        "print(\"The diameter of the cell is \" + str(round(cell.axon[0].diam,3)) + \" microns\")\n",
        "print(\"The length of the cell is \" + str(round(cell.axon[0].L,3)) + \" microns\")"
      ]
    },
    {
      "cell_type": "markdown",
      "metadata": {
        "id": "HpUkLOD1NQKr"
      },
      "source": [
        "## Input Resistance\n",
        "Input resistance is a measure of how much membrane voltage will change with respect to current injection."
      ]
    },
    {
      "cell_type": "markdown",
      "metadata": {
        "id": "rIf1ozZyNtYr"
      },
      "source": [
        "$$\n",
        "R_{in} = \\frac{ΔV}{I_{inject}}\n",
        "$$\n",
        "We will use a negative current injection and Ohm's Law to determine the cell's soma's input resistance."
      ]
    },
    {
      "cell_type": "markdown",
      "metadata": {
        "id": "8w865bnOju12"
      },
      "source": [
        "# Question\n",
        "1.   Why do we use negative current to measure input resistance? (Hint: think about what occurs when positive current is injected)"
      ]
    },
    {
      "cell_type": "markdown",
      "metadata": {
        "id": "8mE8nlRtDDIQ"
      },
      "source": [
        "# Current Clamp\n",
        "The delay, duration and magnitude of the current are all defined here for the current injection."
      ]
    },
    {
      "cell_type": "code",
      "execution_count": null,
      "metadata": {
        "id": "Ew4cioG2NSrs"
      },
      "outputs": [],
      "source": [
        "# create current injection\n",
        "IC = h.IClamp(cell.soma[0](0.5)) # create hoc current clamp object at the x=0.5 middle of soma\n",
        "IC.delay = 100.0 # delay in ms\n",
        "IC.dur = 1000.0 # duration in ms\n",
        "IC.amp = -1 # amplitude in nA"
      ]
    },
    {
      "cell_type": "markdown",
      "metadata": {
        "id": "bs_KyQ58DiaD"
      },
      "source": [
        "# Simulation Parameters\n",
        "Here we define how long the simulation is, starting voltage, record voltages within the soma and axon, record the leak current, and then run the simulation."
      ]
    },
    {
      "cell_type": "code",
      "execution_count": null,
      "metadata": {
        "colab": {
          "base_uri": "https://localhost:8080/"
        },
        "id": "Ms67M2PENSrt",
        "outputId": "e92d9f02-ba15-464e-be89-4060c1659f93"
      },
      "outputs": [],
      "source": [
        "# define simulation parameters\n",
        "h.tstop = tstop = 2000 # how long to run the simulation in ms\n",
        "h.dt = 0.025 # time step (resolution) of the simulation in ms\n",
        "h.v_init = cell.soma[0].e_pas # give v(0) = e_leak\n",
        "\n",
        "\n",
        "# record the voltage (_ref_v) and time (_ref_t) into the vectors we just created\n",
        "V_vecs = [] # list of voltage vectors\n",
        "i_leak_vecs = [] # list of leak current vectors\n",
        "segs = []\n",
        "\n",
        "#record soma\n",
        "seg = cell.soma[0](0.5)\n",
        "segs.append(seg)\n",
        "seg_V_vec = h.Vector() # define vector object for recording variable\n",
        "seg_V_vec.record(seg._ref_v) # record simulated voltage into vector\n",
        "V_vecs.append(seg_V_vec)\n",
        "# record leak current\n",
        "seg_i_leak_vec = h.Vector()\n",
        "seg_i_leak_vec.record(seg._ref_i_pas)\n",
        "i_leak_vecs.append(seg_i_leak_vec)\n",
        "\n",
        "#record main axon\n",
        "seg = cell.axon[0](0.5)\n",
        "segs.append(seg)\n",
        "seg_V_vec = h.Vector() # define vector object for recording variable\n",
        "seg_V_vec.record(seg._ref_v) # record simulated voltage into vector\n",
        "V_vecs.append(seg_V_vec)\n",
        "\n",
        "\n",
        "\n",
        "t_vec = h.Vector() # time vector\n",
        "t_vec.record(h._ref_t) # record time during simulation\n",
        "\n",
        "\n",
        "h.run() # run simulation"
      ]
    },
    {
      "cell_type": "markdown",
      "metadata": {
        "id": "hQl0bILVEdab"
      },
      "source": [
        "# Plotting Voltage\n",
        "This graphs the voltage within the soma and axon throughout the simulation.\n",
        "\n"
      ]
    },
    {
      "cell_type": "code",
      "execution_count": null,
      "metadata": {
        "colab": {
          "base_uri": "https://localhost:8080/",
          "height": 807
        },
        "id": "bcJFOwg4NIM4",
        "outputId": "df9d18e5-a8dd-40df-c69d-f3d6f4bbcba6"
      },
      "outputs": [],
      "source": [
        "import matplotlib.pyplot as plt\n",
        "\n",
        "fig, axs = plt.subplots(len(segs), 1, figsize=(10, 8))  # 10 subplots stacked vertically, figure size is 10x20 inches\n",
        "for i,seg in enumerate(segs):  # Assuming you have 10 segments in your axon\n",
        "    axs[i].plot(t_vec, V_vecs[i])\n",
        "    axs[i].set_title(str(seg))\n",
        "    axs[i].set_xlabel('Time (ms)')\n",
        "    axs[i].set_ylabel('Voltage (mV)')\n",
        "    # axs[i].set_ylim(-70,vc.amp[0]+1)\n",
        "\n",
        "plt.tight_layout()  # Adjust layout for better visibility\n",
        "plt.show()"
      ]
    },
    {
      "cell_type": "markdown",
      "metadata": {
        "id": "DNW7pl4wHSeB"
      },
      "source": [
        "# Question\n",
        "2. The overshoot in the voltage's response to negative current injection is indicative of a higher order system. What causes a multicompartmental model to be a higher order system?(Hint: think in terms of coupling first order differential equations to create higher order ones)"
      ]
    },
    {
      "cell_type": "markdown",
      "metadata": {
        "id": "sfBIXLMjlTXA"
      },
      "source": [
        "# Calculation of Input Resistance\n",
        "$$\n",
        "R_{in} = \\frac{V_{rest}-V_{inject}}{I_{inject}}\n",
        "$$\n",
        "The input resistance is the change in voltage is just the difference from the resting membrane potential and steady state potential during injection. It is a passive property of the membrane. After finding it, we can just plug it in to find the input resistance.\n",
        "(Note: voltage is measured in mV, which is 10^-3 V. Current is measured in nA, which is 10^-9 amps. After the division, you're left with 10 ^ 6 Ohms, which is 1 MOhm, which is why that is the unit used). For more information on input resistance, click [here.](https://www.scientifica.uk.com/learning-zone/passive-membrane-properties)"
      ]
    },
    {
      "cell_type": "code",
      "execution_count": null,
      "metadata": {
        "colab": {
          "base_uri": "https://localhost:8080/"
        },
        "id": "kQhCAkJFQLfi",
        "outputId": "2611f9e9-2a35-4522-c08b-e16dcb82795b"
      },
      "outputs": [],
      "source": [
        "# Find Resting membrane potential\n",
        "rest_time = (h.tstop + (IC.dur + IC.delay)) / 2 # guarantees to be at a time after current injection is over\n",
        "# print(rest_time)\n",
        "rest_time_index = int(rest_time / h.dt)\n",
        "rest_V_soma = V_vecs[0][rest_time_index]\n",
        "print(f\"rest_V_soma: {round(rest_V_soma,2)} mV\")\n",
        "\n",
        "# Find Steady state membrane potential during injection\n",
        "inj_SS_time = (IC.dur + IC.delay) / 2\n",
        "# print(inj_SS_time)\n",
        "inj_SS_time_index = int(inj_SS_time / h.dt)\n",
        "inj_SS_V_soma = V_vecs[0][inj_SS_time_index]\n",
        "print(f\"inj_SS_V_soma: {round(inj_SS_V_soma,2)} mV\")\n",
        "\n",
        "# Compute input resistance\n",
        "V_change = inj_SS_V_soma - rest_V_soma\n",
        "print(f\"V_change: {round(V_change,2)} mV\")\n",
        "print(f\"Current Injection Amplitude: {IC.amp} nA\")\n",
        "Input_resistance = V_change / IC.amp\n",
        "print(f\"Input_resistance: {round(Input_resistance,2)} MOhms\")\n"
      ]
    },
    {
      "cell_type": "markdown",
      "metadata": {
        "id": "zbHD7sOAduwC"
      },
      "source": [
        "# Questions\n",
        "3.  What is Input Resistance?\n",
        "4.  Repeat the simulation with a current injection of -2 nA. What do you get as the input resistance? What does this tell you about input resistance in general?\n",
        "5.  Is a cell with higher input resistance or lower input resistance more likely to fire an action potential when the same current is injected into the soma?\n",
        "6.  Can the idea of Input Resistance be applied to dendritic compartments?"
      ]
    },
    {
      "cell_type": "markdown",
      "metadata": {
        "id": "Lke3DIGgS6_P"
      },
      "source": [
        "## F/I Curves\n",
        "\n",
        "The F/I(Frequency-Current) curve shows the relationship beteween the frequency of spikes(or action potentials) to the amplitude of the current injected. It is sometimes call the FR-IC(Firing Rate-Current) curve as well."
      ]
    },
    {
      "cell_type": "markdown",
      "metadata": {
        "id": "Fw-HFRNJIZIh"
      },
      "source": [
        "# Simulation Parameters\n",
        "The length of the simulation and inital voltages are the same as last time. This time we will be running multiple simulations with different levels of current injection(from -1 nA to 2 nA). While recording the voltage throughout these simulations, the amount of spikes created will also be recorded."
      ]
    },
    {
      "cell_type": "code",
      "execution_count": null,
      "metadata": {
        "id": "6H_zQpGWTGIT"
      },
      "outputs": [],
      "source": [
        "# # define simulation parameters\n",
        "#h.tstop = tstop = 2000 # how long to run the simulation in ms\n",
        "#h.dt = 0.025 # time step (resolution) of the simulation in ms\n",
        "#h.v_init = cell.soma[0].e_pas # give v(0) = e_leak\n",
        "\n",
        "# Perform Simulations with varying current injection amplitude\n",
        "\n",
        "def set_spike_recorder(cell, spike_threshold, seg_to_record='soma') -> None:\n",
        "    vec = h.Vector()\n",
        "    if seg_to_record == 'soma':\n",
        "      nc = h.NetCon(cell.soma[0](0.5)._ref_v, None, sec = cell.soma[0])\n",
        "    elif seg_to_record == 'axon':\n",
        "      nc = h.NetCon(cell.axon[0](0.5)._ref_v, None, sec = cell.axon[0])\n",
        "    else:\n",
        "      raise(ValueError(f\"{seg_to_record} should be 'soma' or 'axon'\"))\n",
        "    nc.threshold = spike_threshold\n",
        "    nc.record(vec)\n",
        "    return vec\n",
        "\n",
        "V_vecs = [] # list of voltage vectors\n",
        "segs = []\n",
        "amps = np.arange(-1.0,2.,.25)\n",
        "spike_arrays = []\n",
        "\n",
        "for amp in amps:\n",
        "  IC.amp = amp # amplitude in nA\n",
        "  # record the voltage (_ref_v) and time (_ref_t) into the vectors we just created\n",
        "  i_leak_vecs = []\n",
        "\n",
        "\n",
        "  spikes = set_spike_recorder(cell=cell, spike_threshold = 0)\n",
        "\n",
        "  #record soma voltage\n",
        "  seg = cell.soma[0](0.5)\n",
        "  segs.append(seg)\n",
        "  seg_V_vec = h.Vector() # define vector object for recording variable\n",
        "  seg_V_vec.record(seg._ref_v) # record simulated voltage into vector\n",
        "  #V_vecs.append(seg_V_vec)\n",
        "  # record leak current\n",
        "  seg_i_leak_vec = h.Vector()\n",
        "  seg_i_leak_vec.record(seg._ref_i_pas)\n",
        "  i_leak_vecs.append(seg_i_leak_vec)\n",
        "\n",
        "  t_vec = h.Vector() # time vector\n",
        "  t_vec.record(h._ref_t) # record time during simulation\n",
        "  h.run() # run simulation\n",
        "  V_vecs.append(np.array(seg_V_vec))\n",
        "  spike_arrays.append(spikes)"
      ]
    },
    {
      "cell_type": "markdown",
      "metadata": {
        "id": "TDha-tmiLhgw"
      },
      "source": [
        "# Plotting Voltage\n",
        "This graphs the voltage within the soma throughout current injection at the different amplitudes."
      ]
    },
    {
      "cell_type": "code",
      "execution_count": null,
      "metadata": {
        "colab": {
          "base_uri": "https://localhost:8080/",
          "height": 1000
        },
        "id": "sX3VAVAMTGIU",
        "outputId": "1fe83bfa-1a53-4105-f47d-1e334f3dcdcb"
      },
      "outputs": [],
      "source": [
        "import matplotlib.pyplot as plt\n",
        "fig, axs = plt.subplots(len(segs), 1, figsize=(10, 16))  # 10 subplots stacked vertically, figure size is 10x16 inches\n",
        "for i,seg in enumerate(segs):  # Assuming you have 10 segments in your axon\n",
        "    axs[i].plot(t_vec, V_vecs[i])\n",
        "    axs[i].set_title(f\"{amps[i]} nA {seg}\")\n",
        "    axs[i].set_xlabel('Time (ms)')\n",
        "    axs[i].set_ylabel('Voltage (mV)')\n",
        "    # axs[i].set_ylim(-70,vc.amp[0]+1)\n",
        "\n",
        "plt.tight_layout()  # Adjust layout for better visibility\n",
        "plt.show()"
      ]
    },
    {
      "cell_type": "markdown",
      "metadata": {
        "id": "NjIAWmmRSOCK"
      },
      "source": [
        "# Firing Rates\n",
        "Firing Rates are given in Hz(spikes per second). Firing rates are just the frequency in which a cell generates spikes. This will get the firing rates at each amplitude based off of how many spikes were generated during the simulation."
      ]
    },
    {
      "cell_type": "code",
      "execution_count": null,
      "metadata": {
        "id": "WsO5EU3hVzFV"
      },
      "outputs": [],
      "source": [
        "firing_rates = []\n",
        "for spike_array in spike_arrays:\n",
        "  #print(len(spike_array))\n",
        "  num_spikes = len(spike_array)\n",
        "  #print(len(spike_array))\n",
        "  firing_rate = num_spikes / (IC.dur / 1000) #duration is in ms, so divide by /1000 to get in seconds\n",
        "  firing_rates.append(firing_rate)"
      ]
    },
    {
      "cell_type": "markdown",
      "metadata": {
        "id": "vntnUHVFUDwH"
      },
      "source": [
        "# Plotting the FI Curve\n",
        "Now that we have the the frequency and current, we can plot it. Since the frequency is dependent on the current injected, the current will be on the x-axis and the frequency will be on the y-axis."
      ]
    },
    {
      "cell_type": "code",
      "execution_count": null,
      "metadata": {
        "colab": {
          "base_uri": "https://localhost:8080/",
          "height": 507
        },
        "id": "EbEiPxTiVi2X",
        "outputId": "85414bb9-fe4e-44dd-b70a-672ee0246393"
      },
      "outputs": [],
      "source": [
        "# Plot F/I curve\n",
        "fig, axs = plt.subplots(1, 1, figsize=(8, 5))  # 10 subplots stacked vertically, figure size is 10x20 inches\n",
        "\n",
        "axs.plot(amps, firing_rates)\n",
        "axs.set_title(f\"FI Curve\")\n",
        "axs.set_xlabel('Current Injection (nA)')\n",
        "axs.set_ylabel('Firing Rate (Hz)')\n",
        "  # axs[i].set_ylim(-70,vc.amp[0]+1)\n",
        "\n",
        "plt.tight_layout()  # Adjust layout for better visibility\n",
        "plt.show()"
      ]
    },
    {
      "cell_type": "markdown",
      "metadata": {
        "id": "zsi_CID5cl_O"
      },
      "source": [
        "# Note\n",
        "The slope of the FI curve can be described using a piecewise function.\n",
        "\n",
        "Part of this FI curve is given as a piecewise function below. Can you figure out the rest?\n",
        "\n",
        "$$\n",
        "f(I) = \\{I ≤ 0.25: \\frac{dF}{dI} = 0,0.25 ≤ I ≤ 0.5 :\\frac{dF}{dI}=48\\}\n",
        "$$"
      ]
    },
    {
      "cell_type": "markdown",
      "metadata": {
        "id": "ArF5mrN4NEvt"
      },
      "source": [
        "## Action Potential Propagation\n",
        "Action Potential Propagation refers how an action potential travels down through the axon. See the two videos below for a more detailed overview. The next simulation will focus on AP propagation with myelin sheaths, although a brief visit without it will be done as well.\n"
      ]
    },
    {
      "cell_type": "code",
      "execution_count": null,
      "metadata": {
        "colab": {
          "base_uri": "https://localhost:8080/",
          "height": 321
        },
        "id": "pRbpdGddYhG2",
        "outputId": "38351afd-2906-40bc-ac66-32a538463aeb"
      },
      "outputs": [],
      "source": [
        "from IPython.display import YouTubeVideo\n",
        "YouTubeVideo('tOTYO5WrXFU')"
      ]
    },
    {
      "cell_type": "code",
      "execution_count": null,
      "metadata": {
        "colab": {
          "base_uri": "https://localhost:8080/",
          "height": 321
        },
        "id": "qYhGPP9rYiaa",
        "outputId": "2d401573-9e4b-4bce-f76c-1ed2a6abc5dc"
      },
      "outputs": [],
      "source": [
        "YouTubeVideo('5WNWFyvUA5w')"
      ]
    },
    {
      "cell_type": "markdown",
      "metadata": {
        "id": "jXAj6ZcNOOXP"
      },
      "source": [
        "Explore How Nodes of Ranvier and Myelin Sheath allow the Action Potential to reliably travel down the Axon. Elongate the Axon, adding long myelinated sections sepearted by Nodes of Ranvier. Myelinated sections should have a higher membrane resistance (lower leak conductance), and Nodes should have a higher density of active channels.\n"
      ]
    },
    {
      "cell_type": "markdown",
      "metadata": {
        "id": "yi95NWMjfmxZ"
      },
      "source": [
        "# Additions to The Simulation\n",
        "This simulation will add 5 pairs of myelin sheaths and Nodes of Ranvier to view how spikes propagate throughout. Important things to note are that the myelinated segments have no active channels and a very, very low leak conductance. Myelinated segments are also much longer than the nodes. Lastly, the diameter of these segments is half of the original axon, with a 10th of the original axial resitivity."
      ]
    },
    {
      "cell_type": "code",
      "execution_count": null,
      "metadata": {
        "colab": {
          "base_uri": "https://localhost:8080/"
        },
        "id": "8UrSr3tu1e1e",
        "outputId": "9d9fa54c-762b-437c-9cdc-68240b546d63"
      },
      "outputs": [],
      "source": [
        "# Initial parameters\n",
        "axon_diam = cell.axon[0].diam * 2 #2  # diameter of the axon\n",
        "cell.axon[0].Ra = cell.axon[0].Ra / 10\n",
        "\n",
        "\n",
        "# List to hold all axon sections\n",
        "nodes = []\n",
        "myelinated_sections = []\n",
        "new_sections = []\n",
        "\n",
        "# Define properties for myelinated segments and Nodes of Ranvier\n",
        "myelin_length = 225 #1000\n",
        "node_length = 1\n",
        "# myelin_resistance = 1000\n",
        "# node_resistance = 0.01\n",
        "\n",
        "for i in range(10):\n",
        "    if i % 2 == 0:  # Myelinated segment\n",
        "        axon = h.Section(name='Myelinated[{}]'.format(i+1))\n",
        "    else:\n",
        "        axon = h.Section(name='Node[{}]'.format(i+1))\n",
        "    new_sections.append(axon)\n",
        "    axon.insert('hh')\n",
        "    #  op0\n",
        "    axon.cm = cell.axon[0].cm\n",
        "    for seg in axon:\n",
        "      seg.hh.el = cell.axon[0](0.5).pas.e\n",
        "    axon.Ra = cell.axon[0].Ra #/ 3\n",
        "\n",
        "    # connect to previous section\n",
        "    if i == 0:\n",
        "        axon.connect(cell.axon[0](1))\n",
        "    else:\n",
        "        axon.connect(new_sections[i-1](1))\n",
        "\n",
        "    if i % 2 == 0:  # Myelinated segment\n",
        "        myelinated_sections.append(axon)\n",
        "        axon.L = myelin_length\n",
        "        axon.diam = axon_diam\n",
        "        axon.nseg = 20  # This might vary depending on your requirement\n",
        "        for seg in axon:\n",
        "            seg.hh.gl = cell.axon[0](0.5).g_pas / 10000000  # Maximal conductance of leak channels\n",
        "            seg.hh.gkbar =0# 0.036/1000#0.036/10  # Maximal conductance of K channels\n",
        "            seg.hh.gnabar = 0#0.12/1000  # Maximal conductance of Na channels\n",
        "\n",
        "\n",
        "        # You might also add other properties specific to myelinated segments\n",
        "\n",
        "    else:  # Node of Ranvier\n",
        "        nodes.append(axon)\n",
        "        axon.L = node_length\n",
        "        axon.diam = axon_diam\n",
        "\n",
        "        for seg in axon:\n",
        "            seg.hh.gl = cell.axon[0](0.5).g_pas / 10  # may update to 80 mS / unit area\n",
        "            seg.hh.gkbar = 0.036 * 1000  # Maximal conductance of K channels\n",
        "            seg.hh.gnabar = 0.12 * 500   # Maximal conductance of Na channels\n",
        "\n",
        "        axon.nseg = 1  # Usually a node of ranvier is represented by one segment\n",
        "\n",
        "    # Print out some properties for verification\n",
        "    print(\"Axon section {}: L = {} um, diam = {} um\".format(i, axon.L, axon.diam))\n"
      ]
    },
    {
      "cell_type": "markdown",
      "metadata": {
        "id": "5pSFzSR0g2hs"
      },
      "source": [
        "# Functions to Change Parameters\n",
        "These functions will be used to change different parameters such as the diameter, the axial resistance, the active conductance of the nodes, the leak conductance of the myelinated segments, and simulate no myelinated segments to then later answer questions."
      ]
    },
    {
      "cell_type": "code",
      "execution_count": null,
      "metadata": {
        "id": "mIHL1r9Rsyds"
      },
      "outputs": [],
      "source": [
        "#changes something that affects both nodes and myelinated sections\n",
        "def changeAllSections(change, param_to_change = 'diam') ->None:\n",
        "  for section in new_sections:\n",
        "    if(param_to_change == 'diam'):\n",
        "      section.diam = (cell.axon[0].diam * 2) * change\n",
        "    elif(param_to_change == 'Ra'):\n",
        "          section.Ra = cell.axon[0].Ra * change\n",
        "    else:\n",
        "      raise(ValueError(f\"{param_to_change}should be 'diam' or 'Ra'\"))\n",
        "      break\n",
        "\n",
        "#changes the k and na conductances of the nodes of ranvier by a constant change\n",
        "def changeNodeActiveConductance(change):\n",
        "  for node in nodes:\n",
        "    for seg in node:\n",
        "        seg.hh.gkbar = (0.036 * 1000) * change\n",
        "        seg.hh.gnabar = (0.12 * 500) * change\n",
        "\n",
        "#changes the myelin leak conductant by a constant change\n",
        "def changeMyelinLeakConductance(change):\n",
        "  for myelin in myelinated_sections:\n",
        "    for seg in myelin:\n",
        "      seg.hh.gl = (cell.axon[0](0.5).g_pas / 10000000) * change\n",
        "\n",
        "#sets myelin conductance to wanted value\n",
        "def setMyelinConductance(value, channel_to_change = 'gl')->None:\n",
        "  for myelin in myelinated_sections:\n",
        "    for seg in myelin:\n",
        "      if(channel_to_change == 'gl'):\n",
        "        seg.hh.gl = value\n",
        "      elif(channel_to_change == 'gkbar'):\n",
        "        seg.hh.gkbar = value\n",
        "      elif(channel_to_change == 'gnabar'):\n",
        "        seg.hh.gnabar = value\n",
        "      else:\n",
        "        raise(ValueError(f\"{channel_to_change}should be 'gl', 'gkbar', or 'gnabar'\"))\n",
        "        break\n",
        "\n",
        "#sets node conductance to wanted value\n",
        "def setNodeConductance(value, channel_to_change = 'gl')->None:\n",
        "  for node in nodes:\n",
        "    for seg in node:\n",
        "      if(channel_to_change == 'gl'):\n",
        "        seg.hh.gl = value\n",
        "      elif(channel_to_change == 'gkbar'):\n",
        "        seg.hh.gkbar = value\n",
        "      elif(channel_to_change == 'gnabar'):\n",
        "        seg.hh.gnabar = value\n",
        "      else:\n",
        "        raise(ValueError(f\"{channel_to_change}should be 'gl', 'gkbar', or 'gnabar'\"))\n",
        "        break\n",
        "\n",
        "\n",
        "\n",
        "#sets everything to initial values\n",
        "def changeToDefault():\n",
        "  changeAllSections(1,'diam') #initial val\n",
        "  changeAllSections(1,'Ra') #initial val\n",
        "  changeNodeActiveConductance(1) #initial val\n",
        "  setNodeConductance(cell.axon[0](0.5).g_pas / 10,'gl') #initial val\n",
        "  changeMyelinLeakConductance(1) #initial val\n",
        "  setMyelinConductance(0,'gkbar') #initial val\n",
        "  setMyelinConductance(0,'gnabar') #initial val\n",
        "\n",
        "def simulateNoMyelin():\n",
        "  setMyelinConductance(cell.axon[0](0.5).g_pas / 100, 'gl') # similar gl as Node of Ranvier\n",
        "  setMyelinConductance(0.036/1000,'gkbar') #similar gk as Node of Ranvier\n",
        "  setMyelinConductance(0.12/1000, 'gnabar') #similar gna as Node of Ranvier\n",
        "\n",
        "\n",
        "\n",
        "def set_node_spike_recorder(node, spike_threshold,i):\n",
        "  vec = h.Vector()\n",
        "  nc = h.NetCon(node(i)._ref_v,None,sec = node)\n",
        "  nc.threshold = spike_threshold\n",
        "  nc.record(vec)\n",
        "  return vec\n",
        "\n",
        "\n"
      ]
    },
    {
      "cell_type": "markdown",
      "metadata": {
        "id": "MaV12kQWhMMf"
      },
      "source": [
        "# Changing Parameters\n",
        "This is where parameters will be changed to answer questions. changeToDefault just reverts everything back to the initial values and should always be done before anything else. The number put into the change... functions is how how much the value is being multiplied. So if the Node active conductance is 30 and changeNodeActiveConductance(1/10) is called, it will be changed to 30 * 1 / 10, or 3. To run these different functions, simply delete the hashtag and then re run the code block. If you don't want to run it, put the hastag back on."
      ]
    },
    {
      "cell_type": "code",
      "execution_count": null,
      "metadata": {
        "id": "_tiunkXLMp73"
      },
      "outputs": [],
      "source": [
        "changeToDefault()\n",
        "#changeNodeActiveConductance(1/10)\n",
        "#changeMyelinLeakConductance(10)\n",
        "#changeAllSections(10,'Ra')\n",
        "#changeAllSections(0.75,'diam')\n",
        "#simulateNoMyelin()\n"
      ]
    },
    {
      "cell_type": "markdown",
      "metadata": {
        "id": "stgScZqkic7n"
      },
      "source": [
        "# Running the Simulation\n",
        "The simulation is ran here for the same amount of time as every other simulation. While here, the spikes are recorded from the first and last node. Also, the amp is defined to be 0.6 for these simulations."
      ]
    },
    {
      "cell_type": "code",
      "execution_count": null,
      "metadata": {
        "id": "G7M172KRJSek"
      },
      "outputs": [],
      "source": [
        "# define simulation parameters\n",
        "#IC.delay = 100.0 # delay in ms\n",
        "#IC.dur = 1000.0 # duration in ms\n",
        "IC.amp = 0.6 #nA\n",
        "#h.tstop = tstop = 2000 # how long to run the simulation in ms\n",
        "#h.dt = 0.025 # time step (resolution) of the simulation in ms\n",
        "#h.v_init = cell.soma[0].e_pas # give v(0) = e_leak\n",
        "\n",
        "\n",
        "# record the voltage (_ref_v) and time (_ref_t) into the vectors we just created\n",
        "V_vecs = [] # list of voltage vectors\n",
        "i_leak_vecs = []\n",
        "segs = []\n",
        "\n",
        "#record soma\n",
        "seg = cell.soma[0](0.5)\n",
        "segs.append(seg)\n",
        "seg_V_vec = h.Vector() # define vector object for recording variable\n",
        "seg_V_vec.record(seg._ref_v) # record simulated voltage into vector\n",
        "V_vecs.append(seg_V_vec)\n",
        "# record leak current\n",
        "seg_i_leak_vec = h.Vector()\n",
        "seg_i_leak_vec.record(seg._ref_i_pas)\n",
        "i_leak_vecs.append(seg_i_leak_vec)\n",
        "\n",
        "#record main axon\n",
        "seg = cell.axon[0](0.5)\n",
        "segs.append(seg)\n",
        "seg_V_vec = h.Vector() # define vector object for recording variable\n",
        "seg_V_vec.record(seg._ref_v) # record simulated voltage into vector\n",
        "V_vecs.append(seg_V_vec)\n",
        "\n",
        "for sect in new_sections:\n",
        "  seg = sect(0.5)\n",
        "  segs.append(seg)\n",
        "  seg_V_vec = h.Vector() # define vector object for recording variable\n",
        "  seg_V_vec.record(seg._ref_v) # record simulated voltage into vector\n",
        "  V_vecs.append(seg_V_vec)\n",
        "  # record leak current\n",
        "  seg_i_leak_vec = h.Vector()\n",
        "  try:seg_i_leak_vec.record(seg._ref_i_pas)\n",
        "  except:seg_i_leak_vec.record(seg._ref_il_hh)\n",
        "  i_leak_vecs.append(seg_i_leak_vec)\n",
        "\n",
        "\n",
        "axon_spikes = set_spike_recorder(cell=cell, spike_threshold = 0, seg_to_record = 'axon')\n",
        "first_node_spikes = set_node_spike_recorder(nodes[0],0,0)\n",
        "last_node_spikes = set_node_spike_recorder(nodes[len(nodes)-1], 0,1)\n",
        "\n",
        "\n",
        "t_vec = h.Vector() # time vector\n",
        "t_vec.record(h._ref_t) # record time during simulation\n",
        "\n",
        "# dir(new_sections[0](0.5).hh.il) #gives all information about the section\n",
        "h.run() # run simulation\n",
        "V_vecs.append(np.array(seg_V_vec))"
      ]
    },
    {
      "cell_type": "markdown",
      "metadata": {
        "id": "7YCx8IN2ixiA"
      },
      "source": [
        "# Plotting Voltage/Spikes\n",
        "The voltage is plotted over the simulation throughout each section of the cell, from the soma to the last node."
      ]
    },
    {
      "cell_type": "code",
      "execution_count": null,
      "metadata": {
        "colab": {
          "base_uri": "https://localhost:8080/",
          "height": 1000
        },
        "id": "Ti3d9r6LRhzH",
        "outputId": "a512e62a-9758-4cb3-fa46-56b961dc78c1"
      },
      "outputs": [],
      "source": [
        "import matplotlib.pyplot as plt\n",
        "\n",
        "fig, axs = plt.subplots(len(segs), 1, figsize=(10, 16))  # 10 subplots stacked vertically, figure size is 10x20 inches\n",
        "\n",
        "for i,seg in enumerate(segs):  # Assuming you have 10 segments in your axon\n",
        "    axs[i].plot(t_vec, V_vecs[i])\n",
        "    axs[i].set_title(str(seg))\n",
        "    axs[i].set_xlabel('Time (ms)')\n",
        "    axs[i].set_ylabel('Voltage (mV)')\n",
        "    # axs[i].set_ylim(-70,vc.amp[0]+1)\n",
        "\n",
        "plt.tight_layout()  # Adjust layout for better visibility\n",
        "plt.show()"
      ]
    },
    {
      "cell_type": "markdown",
      "metadata": {
        "id": "Eg1QMp3Gjav8"
      },
      "source": [
        "# Questions\n",
        "7.   Reduce the Node of Ranvier's active conductances to 10% of the original and rerun the simulation. Explain the importance and role of the Nodes.\n",
        "8.   Return to the default and then increase the Myelinated sections' leak conductance to be 10 times greater and rerun the simulation. Explain the importance and role of the Myelin sheath.\n",
        "9.   Return to the default and then increase the axial resistance to be 10 times greater and rerun the simulation. What happens when the axial resistance is higher? Explain how axial resistance affects the propagation of an action potential.\n",
        "10.   To make it easier for a voltage waveform to propagate along a dendrite, should the axial resistance be higher or lower? What about membrane resistance?\n"
      ]
    },
    {
      "cell_type": "markdown",
      "metadata": {
        "id": "8nPMU7V5rn7K"
      },
      "source": [
        "# AP(Action Potential) Propagation Velocity\n",
        "After recording when the spikes occured in the first and last nodes. The AP propagation velocity can be easily calculated by the followoing formula:\n",
        "$$\n",
        "v_{ap} = \\frac{d}{Δt}\n",
        "$$\n",
        "Where d is the distance from the two nodes, and delta t is the change in time for the spike to get from the axon to the last node. This can be rewritten as:\n",
        "$$\n",
        "v_{ap} = \\frac{d}{t_{last}-t_{first}}\n",
        "$$"
      ]
    },
    {
      "cell_type": "code",
      "execution_count": null,
      "metadata": {
        "colab": {
          "base_uri": "https://localhost:8080/"
        },
        "id": "0X4UdG36yQFr",
        "outputId": "23f566ed-74f3-464b-c635-f395ff20867c"
      },
      "outputs": [],
      "source": [
        "#print(first_node_spikes[0])\n",
        "#print(last_node_spikes[0])\n",
        "#print(first_node_spikes)\n",
        "time = last_node_spikes[0] - axon_spikes[0]\n",
        "\n",
        "time_in_secs = time / 1000\n",
        "length = 0\n",
        "length = length +((len(myelinated_sections)) * myelin_length) #add all myelinated sections\n",
        "length = length + (len(nodes) * node_length) #add all nodes\n",
        "length = length + axon.L #add axon. Length is in microns\n",
        "ap_velocity = length / time_in_secs\n",
        "\n",
        "print(\"AP velocity is \" + str(round(ap_velocity)) +  \" microns/s\")"
      ]
    },
    {
      "cell_type": "markdown",
      "metadata": {
        "id": "GuzUGTYmjTaN"
      },
      "source": [
        "# Questions\n",
        "11. Return to the default and then change the diameter to be 75% of the original and rerun the simulation. What happens to the axon propagation speed? Why does this occur? (Hint: Watch the second video)\n",
        "12. Simulate what happens when there is no myelination. What happens to the axon propagation speed? Why does this occur? (Hint: watch the second video)"
      ]
    }
  ],
  "metadata": {
    "colab": {
      "include_colab_link": true,
      "provenance": []
    },
    "kernelspec": {
      "display_name": "bmtk",
      "language": "python",
      "name": "python3"
    },
    "language_info": {
      "codemirror_mode": {
        "name": "ipython",
        "version": 3
      },
      "file_extension": ".py",
      "mimetype": "text/x-python",
      "name": "python",
      "nbconvert_exporter": "python",
      "pygments_lexer": "ipython3",
      "version": "3.8.18"
    }
  },
  "nbformat": 4,
  "nbformat_minor": 0
}
