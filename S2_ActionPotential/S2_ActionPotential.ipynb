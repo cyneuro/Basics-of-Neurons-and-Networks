{
  "cells": [
    {
      "cell_type": "markdown",
      "metadata": {},
      "source": [
        "[![Open in Colab](https://colab.research.google.com/assets/colab-badge.svg)](https://colab.research.google.com/github/cyneuro/Basics-of-Neurons-and-Networks/blob/main/S2_ActionPotential/S2_ActionPotential.ipynb)"
      ]
    },
    {
      "cell_type": "markdown",
      "metadata": {
        "id": "-iB3JcePctsL"
      },
      "source": [
        "# S2 What makes a neuron spike?\n",
        "## - Generation of Action Potentials\n",
        "\n",
        "##### Developed in the Neural Engineering Laboratory at the University of Missouri(Mizzou) by Ziao Chen. Notes added by Matt Stroud and Gregory Glickert\n",
        "##### To run code either click the play button by each code block or go to the top and select run all or runtime then run all"
      ]
    },
    {
      "cell_type": "markdown",
      "metadata": {
        "id": "BSkBjPmXTE4O"
      },
      "source": [
        "This notebook displays an interactive plot of a spiking neuron. If you would like to learn more of the fundamentals of action potentials, scroll to the bottom of this notebook to view a video."
      ]
    },
    {
      "cell_type": "markdown",
      "metadata": {
        "id": "WrJN10P1cvii"
      },
      "source": [
        "## Install NEURON"
      ]
    },
    {
      "cell_type": "code",
      "execution_count": null,
      "metadata": {
        "colab": {
          "base_uri": "https://localhost:8080/"
        },
        "id": "o0vJiAOLcxd7",
        "outputId": "8baadb36-d5d7-4c5c-df33-9adddd8e8575"
      },
      "outputs": [],
      "source": [
        "RunningInCOLAB = 'google.colab' in str(get_ipython())  # checks to see if we are in google colab\n",
        "if RunningInCOLAB:                                     # installs packages if in colab \n",
        "    %pip install ipywidgets==7.7.1 &> /dev/null\n",
        "    %pip install neuron==8.2.4 &> /dev/null"
      ]
    },
    {
      "cell_type": "markdown",
      "metadata": {
        "id": "wtzrKxlNNTxy"
      },
      "source": [
        "## Download modfiles from github"
      ]
    },
    {
      "cell_type": "code",
      "execution_count": null,
      "metadata": {
        "colab": {
          "base_uri": "https://localhost:8080/"
        },
        "id": "VwbGCJ6LNfIL",
        "outputId": "13112eb2-647e-47fe-ff9b-8e7ba19544bc"
      },
      "outputs": [],
      "source": [
        "import os\n",
        "from os.path import normpath, sep, join\n",
        "\n",
        "if RunningInCOLAB: \n",
        "  root = 'Basics-of-Neurons-and-Networks'\n",
        "  folder = 'S2_ActionPotential'\n",
        "  pathlist = normpath(os.getcwd()).split(sep)\n",
        "  if pathlist[-1] != folder:\n",
        "    rootidx = pathlist.index(root) if root in pathlist else -1\n",
        "    if rootidx>0:\n",
        "      os.chdir(join(sep,*pathlist[:rootidx]))\n",
        "    !git clone https://github.com/cyneuro/Basics-of-Neurons-and-Networks.git &> /dev/null\n",
        "    os.chdir(join(root,folder))"
      ]
    },
    {
      "cell_type": "markdown",
      "metadata": {
        "id": "rZeZ-cnyQTwe"
      },
      "source": [
        "## Setting up and Running the Simulation"
      ]
    },
    {
      "cell_type": "markdown",
      "metadata": {
        "id": "ZAa6Kiz2ctsO"
      },
      "source": [
        "#### Before running the simulation, you need to compile the mod files only once for the first time."
      ]
    },
    {
      "cell_type": "code",
      "execution_count": null,
      "metadata": {
        "colab": {
          "base_uri": "https://localhost:8080/"
        },
        "id": "zAERYCe_ctsQ",
        "outputId": "afd84f6d-6f70-402c-e5f5-f8c64a3edda0"
      },
      "outputs": [],
      "source": [
        "import os\n",
        "print(os.system('nrnivmodl')) # compile modfiles. Return 0 for success, 1 for failure."
      ]
    },
    {
      "cell_type": "markdown",
      "metadata": {
        "id": "8b4ZbYTUJi-s"
      },
      "source": [
        "If the cell above output a 0, Great! You should be able to run the cells below to see an interactive simulation of a spiking neuron!"
      ]
    },
    {
      "cell_type": "markdown",
      "metadata": {
        "id": "hunTP-KcctsR"
      },
      "source": [
        "### Run the codes below and answer the 10 questions at the end."
      ]
    },
    {
      "cell_type": "code",
      "execution_count": null,
      "metadata": {
        "id": "y0Ng1h_actsV",
        "scrolled": true
      },
      "outputs": [],
      "source": [
        "import matplotlib.pyplot as plt\n",
        "from neuron import h\n",
        "h.load_file('stdrun.hoc')\n",
        "\n",
        "# Simulation parameters\n",
        "h.dt = 0.025 # time step (resolution) of the simulation in ms\n",
        "h.v_init= -60 # initial membrane potential in mV\n",
        "\n",
        "# Cell geometry and biophysics\n",
        "soma = h.Section(name='soma')\n",
        "soma.L = 500 # soma length um\n",
        "soma.diam = 500 # soma diameter um\n",
        "soma.cm = 1 # membrane capacitance uF/cm2\n",
        "soma.Ra = 30 # ohm-cm\n",
        "\n",
        "soma.insert('leak') # Leak channel\n",
        "soma.glbar_leak = 0.0003 # S/cm2\n",
        "soma.el_leak = -60 # mV\n",
        "soma.insert('na') # Sodium channel\n",
        "gnabar = 0.12 # S/cm2\n",
        "soma.nao = 79.8 # extracellular Na concentration\n",
        "soma.insert('k') # Potassium channel\n",
        "gkbar = 0.036 # S/cm2\n",
        "soma.ki = 69.35 # intracellular K concentration\n",
        "\n",
        "# Current clamp. Inject current in the middle of the soma\n",
        "ccl = h.IClamp(soma(0.5))\n",
        "# Voltage clamp\n",
        "vcl = h.VClamp(soma(0.5))\n",
        "vcldur = [[0,0,0],[10,20,1e9]]\n",
        "for i in range(3): vcl.amp[i] = -60\n",
        "\n",
        "# Define vectors for recording variables\n",
        "t_vec = h.Vector(); v_vec = h.Vector()\n",
        "gna_vec = h.Vector(); gk_vec = h.Vector()\n",
        "il_vec = h.Vector(); ina_vec = h.Vector(); ik_vec = h.Vector()\n",
        "m_vec = h.Vector(); h_vec = h.Vector(); n_vec = h.Vector()\n",
        "ccl_vec = h.Vector(); vcl_vec = h.Vector()\n",
        "\n",
        "# Record the variables\n",
        "t_vec.record(h._ref_t); v_vec.record(soma(0.5)._ref_v)\n",
        "gna_vec.record(soma(0.5)._ref_gna_na); gk_vec.record(soma(0.5)._ref_gk_k)\n",
        "il_vec.record(soma(0.5)._ref_il_leak); ina_vec.record(soma(0.5)._ref_ina); ik_vec.record(soma(0.5)._ref_ik)\n",
        "m_vec.record(soma(0.5)._ref_m_na); h_vec.record(soma(0.5)._ref_h_na); n_vec.record(soma(0.5)._ref_n_k)\n",
        "ccl_vec.record(ccl._ref_i); vcl_vec.record(vcl._ref_i)\n",
        "\n",
        "def plot_variables(clamp):\n",
        "    plt.figure(figsize=(13,20))\n",
        "    # Membrane potential\n",
        "    plt.subplot(5,1,1)\n",
        "    plt.plot(t_vec, v_vec,'b')\n",
        "    plt.xlim(0,h.tstop); plt.ylim(-100,70)\n",
        "    plt.ylabel('mV'); plt.legend(['Vm'],loc=1)\n",
        "    # Channel conductances\n",
        "    plt.subplot(5,1,2)\n",
        "    plt.plot(t_vec,gna_vec,'r')\n",
        "    plt.plot(t_vec,gk_vec,'b')\n",
        "    plt.xlim(0,h.tstop)\n",
        "    plt.ylabel('siemens/cm2'); plt.legend(['gna','gk'],loc=1)\n",
        "    # Channel currents\n",
        "    plt.subplot(5,1,3)\n",
        "    plt.plot(t_vec,ina_vec ,'r')\n",
        "    plt.plot(t_vec,ik_vec ,'b')\n",
        "    plt.plot(t_vec,il_vec ,'g')\n",
        "    plt.xlim(0,h.tstop)\n",
        "    plt.ylabel('mA/cm2'); plt.legend(['ina','ik','ileak'],loc=1)\n",
        "    # Channel activation and inactivation variables\n",
        "    plt.subplot(5,1,4)\n",
        "    plt.plot(t_vec,m_vec ,'r')\n",
        "    plt.plot(t_vec,h_vec ,'orange')\n",
        "    plt.plot(t_vec,n_vec ,'b')\n",
        "    plt.xlim(0,h.tstop); plt.ylim(-0.05,1.05)\n",
        "    plt.ylabel('probability'); plt.legend(['m','h','n'],loc=1)\n",
        "    # Current clamp or Voltage clamp\n",
        "    plt.subplot(5,1,5)\n",
        "    if clamp=='VClamp':\n",
        "        plt.plot(t_vec,vcl_vec ,'r')\n",
        "        plt.legend(['VClamp_i'],loc=1)\n",
        "    else:\n",
        "        plt.plot(t_vec,ccl_vec ,'r')\n",
        "        plt.legend(['IClamp_i'],loc=1)\n",
        "    plt.xlim(0,h.tstop)\n",
        "    plt.xlabel('time (ms)'); plt.ylabel('nA')\n",
        "    plt.show()\n",
        "\n",
        "def activemodel(tstop,block_na,block_k,clamp,ccl_amp,ccl_dur,ccl_delay,vcl_amp):\n",
        "    if block_na: soma.gnabar_na = 0\n",
        "    else: soma.gnabar_na = gnabar\n",
        "    if block_k: soma.gkbar_k = 0\n",
        "    else: soma.gkbar_k = gkbar\n",
        "    \n",
        "    if clamp=='VClamp':\n",
        "        ccl.amp = 0; vcl.amp[1] = vcl_amp\n",
        "        for i in range(3): vcl.dur[i] = vcldur[1][i]\n",
        "    else:\n",
        "        for i in range(3): vcl.dur[i] = vcldur[0][i]\n",
        "        ccl.amp = ccl_amp; ccl.dur = ccl_dur; ccl.delay = ccl_delay\n",
        "    \n",
        "    h.tstop = tstop\n",
        "    h.run()\n",
        "    plt.close('all')\n",
        "    plot_variables(clamp)"
      ]
    },
    {
      "cell_type": "code",
      "execution_count": null,
      "metadata": {
        "colab": {
          "base_uri": "https://localhost:8080/",
          "height": 1000
        },
        "id": "AXvyyMKPctsZ",
        "outputId": "c42e70d0-26c4-43f7-aeba-3b12ceb9f411",
        "scrolled": false
      },
      "outputs": [],
      "source": [
        "import ipywidgets as widgets\n",
        "from ipywidgets import interactive_output,HBox,VBox,Label,Layout\n",
        "from IPython.display import display\n",
        "%matplotlib inline\n",
        "\n",
        "# default setting\n",
        "tstop = 100 # how long to run the simulation in ms\n",
        "ccl_amp = 100 # amplitude in nA\n",
        "ccl_dur = 40.0 # duration in ms\n",
        "ccl_delay = 5.0 # delay in ms\n",
        "vcl_amp = -10 # voltage clamp amplitude in mV\n",
        "clamp = 'IClamp'\n",
        "\n",
        "wide = Layout(width='30%')\n",
        "w_reset = widgets.Button(description='Reset',icon='history',button_style='primary')\n",
        "w_tstop = widgets.FloatSlider(value=tstop,min=10,max=1000, step=10,description='Tstop (ms)')\n",
        "w_na = widgets.ToggleButton(value=False,description='Block Na Channel',icon='ban',button_style='danger',layout=wide)\n",
        "w_k = widgets.ToggleButton(value=False,description='Block K Channel',icon='ban',button_style='warning',layout=wide)\n",
        "w_clamp = widgets.ToggleButtons(value=clamp,options=['IClamp','VClamp'],button_style='info')\n",
        "w_ccl_amp = widgets.FloatSlider(value=ccl_amp, min=-110, max=500, step=10)\n",
        "w_ccl_dur = widgets.FloatSlider(value=ccl_dur, min=0, max=100, step=5)\n",
        "w_ccl_delay = widgets.FloatSlider(value=ccl_delay,min=0, max=100, step=5)\n",
        "w_vcl_amp = widgets.FloatSlider(value=vcl_amp,disabled=True,min=-100, max=80, step=5)\n",
        "\n",
        "def reset_default(*args):\n",
        "    w_tstop.value = tstop; w_clamp.value = clamp\n",
        "    w_na.value = False; w_k.value = False\n",
        "    w_ccl_amp.value = ccl_amp; w_ccl_dur.value = ccl_dur\n",
        "    w_ccl_delay.value = ccl_delay; w_vcl_amp.value = vcl_amp\n",
        "w_reset.on_click(reset_default)\n",
        "\n",
        "def toggle_na(*args):\n",
        "    if w_na.value:\n",
        "        w_na.icon = 'play-circle'; w_na.description='Unblock Na Channel'\n",
        "    else:\n",
        "        w_na.icon = 'ban'; w_na.description='Block Na Channel'\n",
        "w_na.observe(toggle_na,'value')\n",
        "\n",
        "def toggle_k(*args):\n",
        "    if w_k.value:\n",
        "        w_k.icon = 'play-circle'; w_k.description='Unblock K Channel'\n",
        "    else:\n",
        "        w_k.icon = 'ban'; w_k.description='Block K Channel'\n",
        "w_k.observe(toggle_k,'value')\n",
        "\n",
        "def toggle_clamp(*args):\n",
        "    if w_clamp.value=='VClamp':\n",
        "        w_ccl_amp.disabled = True; w_ccl_dur.disabled = True\n",
        "        w_ccl_delay.disabled = True; w_vcl_amp.disabled = False\n",
        "    else:\n",
        "        w_ccl_amp.disabled = False; w_ccl_dur.disabled = False\n",
        "        w_ccl_delay.disabled = False; w_vcl_amp.disabled = True\n",
        "w_clamp.observe(toggle_clamp,'value')\n",
        "\n",
        "around = Layout(justify_content='space-around')\n",
        "labels = ['Toggle IClamp/VClamp:','Current Clamp','Voltage Clamp',\n",
        "          'Amplitude (nA):','Duration (ms):','Delay (ms):','Amplitude (mV):']\n",
        "Labels = [Label(L) for L in labels]\n",
        "\n",
        "ui = VBox([ w_reset, w_tstop, HBox([w_na,w_k]), HBox([Labels[0],w_clamp]), HBox(Labels[1:3],layout=around),\n",
        "           HBox([ VBox(Labels[3:6]),VBox([w_ccl_amp,w_ccl_dur,w_ccl_delay]),Labels[6],w_vcl_amp ],layout=around) ])\n",
        "out = interactive_output(activemodel,{'tstop':w_tstop,'block_na':w_na,'block_k':w_k,'clamp':w_clamp,\n",
        "                'ccl_amp':w_ccl_amp,'ccl_dur':w_ccl_dur,'ccl_delay':w_ccl_delay,'vcl_amp':w_vcl_amp})\n",
        "\n",
        "display(ui,out)"
      ]
    },
    {
      "cell_type": "markdown",
      "metadata": {
        "id": "fmVLPrdactsg"
      },
      "source": [
        "### Questions:\n",
        "1. Reset all fields to their initial values. Click on the __Block Na Channel__ button to run a simulation with the Na channel blocked (this simulates the action of tetrodoxin, a neurotoxin derived from the puffer fish. Actually this is how many neurotoxins work). What do you think will happen? Note below.  \n",
        "<br>\n",
        "2. Reset all fields to their initial values and unblock the Na channel. Click on __Block K Channel__ to block the K channel. What will happen? Note below.  \n",
        "<br>\n",
        "3. Using the state plots (time history of activation and inactivation functions), explain the generation of an action potential.  \n",
        "<br>\n",
        "4. Increase the magnitude of the injection current and describe what happens to the firing frequency.  \n",
        "<br>\n",
        "5. Perform a voltage clamp experiment to estimate the sodium reversal potential. Explain the logic of how you obtained it (including equation) and attach the relevant plots.  \n",
        "<br>\n",
        "6. Determine approximate values for mNa, hNa and mKd for the following cases:\n",
        "  - at the rest state (inject = 0)\n",
        "  - at the peak of the action potential (with I_inject = 100 nA)\n",
        "  - at the lowest point of the action potential (of the down swing with I_inject = 100 nA)  \n",
        "<br>\n",
        "7. Determine the values of all currents at equilibrium (by hand) and make sure they sum up to zero when inject = 0. The parameters used in the model are as follows:  \n",
        "  - Maximal Conductances for the ion channels in S/cm<sup>2</sup>: gbarNa= 0.12; gbarK= 0.036; gbarleak= 0.0003.\n",
        "  - Other parameters: Asoma = 0.007854 cm<sup>2</sup>; Csoma = 1&mu;F/cm<sup>2</sup>.\n",
        "  - Get other parameters and variables from the simulation. Run the model, and then type ```print(soma.ena, soma.ek, soma.el_leak, soma.m_na, soma.h_na, soma.n_k, soma.v)``` in a new line to get the values.  \n",
        "<br>\n",
        "8. By counting the number of spikes generated in a 100 msec window, construct a plot of firing frequency vs. injected current, starting at the rheobase current (minimum injected current that elicits spiking) and working up to a value of about 10 times rheobase. (Suggested settings: base current = 0 nA; onset delay = 50 msec; pulse width 100 msec; simulation time, tstop = 200 msec.) How much does a 10-fold increase in injected current increase the firing rate? What happens if you increase the injected current to 100 times rheobase?  \n",
        "<br>\n",
        "9. In problem 3 we saw that single action potentials can be elicited by small sustained levels of current injection. Single action potentials can also be elicited by transient pulses of current injection, even when the duration of the pulse is shorter than the duration of the action potential. As the length of the pulse decreases, however, the amplitude necessary to elicit an action potential increases. Generate a plot of single spike threshold current vs. pulse duration for pulse widths between 0.1 and 2.0 msec. Is there a simple relationship between pulse width and threshold current?  \n",
        "<br>\n",
        "10. All of the injection pulses in the previous current clamp problems have been depolarizing. In this problem you will look at the effect of hyperpolarizing current pulses. Set the pulse amplitude to -100 nA and set the pulse duration to 5 msec. What happens? What is the threshold, in terms of current magnitude and pulse duration, for eliciting this so-called anode break excitation? What mechanisms in the model are responsible for this behavior? (Hint: look at the time course of the state variables m, n and h.)"
      ]
    },
    {
      "cell_type": "markdown",
      "metadata": {
        "id": "c35bwhaDYCMm"
      },
      "source": [
        "### Extra Material\n",
        "\n",
        "Here is a Crash Course video on action potentials if you are interested. Full screen is not available in the notebook, so you can open the video in a different tab by clicking \"YouTube\" at the bottom of the video panel if you would like."
      ]
    },
    {
      "cell_type": "code",
      "execution_count": null,
      "metadata": {
        "colab": {
          "base_uri": "https://localhost:8080/",
          "height": 321
        },
        "id": "Nh-m4DsySKKz",
        "outputId": "ac5deab1-787d-44db-b94c-16793bc159dc"
      },
      "outputs": [],
      "source": [
        "from IPython.display import HTML,YouTubeVideo\n",
        "YouTubeVideo('OZG8M_ldA1M')"
      ]
    }
  ],
  "metadata": {
    "colab": {
      "collapsed_sections": [],
      "name": "S2_ActionPotential_Ziao.ipynb",
      "provenance": []
    },
    "kernelspec": {
      "display_name": "bmtk",
      "language": "python",
      "name": "python3"
    },
    "language_info": {
      "codemirror_mode": {
        "name": "ipython",
        "version": 3
      },
      "file_extension": ".py",
      "mimetype": "text/x-python",
      "name": "python",
      "nbconvert_exporter": "python",
      "pygments_lexer": "ipython3",
      "version": "3.10.14"
    }
  },
  "nbformat": 4,
  "nbformat_minor": 0
}
